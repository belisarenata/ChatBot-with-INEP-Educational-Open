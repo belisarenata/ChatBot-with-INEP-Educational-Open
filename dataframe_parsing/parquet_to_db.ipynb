{
 "cells": [
  {
   "cell_type": "code",
   "execution_count": 2,
   "metadata": {},
   "outputs": [],
   "source": [
    "import os \n",
    "import polars as pl"
   ]
  },
  {
   "cell_type": "code",
   "execution_count": 3,
   "metadata": {},
   "outputs": [],
   "source": [
    "root_files_path = \"../data\"\n",
    "files = os.listdir(root_files_path)"
   ]
  },
  {
   "cell_type": "code",
   "execution_count": 9,
   "metadata": {},
   "outputs": [
    {
     "name": "stdout",
     "output_type": "stream",
     "text": [
      "registration.parquet\n"
     ]
    }
   ],
   "source": [
    "import re\n",
    "\n",
    "#for file_name in files[8:8]:\n",
    "file_name = files[8]\n",
    "\n",
    "\n",
    "print(file_name)\n",
    "df = pl.read_parquet(f'{root_files_path}/{file_name}')\n",
    "table_name=re.sub(\"[^A-Za-z]\",\"\",file_name).removesuffix(\"parquet\")\n",
    "df.write_database(\n",
    "    table_name=table_name,\n",
    "    connection=\"postgresql:///db\",\n",
    "    engine=\"sqlalchemy\",\n",
    "    if_table_exists=\"replace\"\n",
    ")\n",
    "df = []\n",
    "    \n"
   ]
  },
  {
   "cell_type": "code",
   "execution_count": 8,
   "metadata": {},
   "outputs": [],
   "source": [
    "file_name = files[8]\n",
    "\n"
   ]
  },
  {
   "cell_type": "code",
   "execution_count": null,
   "metadata": {},
   "outputs": [],
   "source": []
  }
 ],
 "metadata": {
  "kernelspec": {
   "display_name": ".venv",
   "language": "python",
   "name": "python3"
  },
  "language_info": {
   "codemirror_mode": {
    "name": "ipython",
    "version": 3
   },
   "file_extension": ".py",
   "mimetype": "text/x-python",
   "name": "python",
   "nbconvert_exporter": "python",
   "pygments_lexer": "ipython3",
   "version": "3.10.12"
  }
 },
 "nbformat": 4,
 "nbformat_minor": 2
}
