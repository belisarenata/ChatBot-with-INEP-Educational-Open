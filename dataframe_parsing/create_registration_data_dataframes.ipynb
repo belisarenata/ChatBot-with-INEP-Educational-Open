{
 "cells": [
  {
   "cell_type": "markdown",
   "metadata": {},
   "source": [
    "## Notebook used only to better visualize data processing\n",
    "\n",
    "This is a visual aid to understand what is done with AFD dataframes in order to get registration data.\n",
    "\n",
    "Actual code is done in a \"normal\" .py simply cause I don't like coding with multiple files/tables at once in notebooks.\n",
    "\n",
    "This code might be outdated, but the overall process is this. "
   ]
  },
  {
   "cell_type": "code",
   "execution_count": 2,
   "metadata": {},
   "outputs": [],
   "source": [
    "import polars as pl\n",
    "import mappers"
   ]
  },
  {
   "cell_type": "code",
   "execution_count": 6,
   "metadata": {},
   "outputs": [],
   "source": [
    "# Function to iterate over each line and each column of the reduced dataframe to find new index values\n",
    "# Since I'm 100% noobie with polars (I miss you, pandas!, but also not), this is chatGpt code :shrug: \n",
    "# I'm also 100% sure there's a better way to do this\n",
    "\n",
    "def find_new_header_index_by_value(df, str_value): \n",
    "    registration_fields_line_index = None\n",
    "\n",
    "    # Iterar pelas linhas do dataframe\n",
    "    for i in range(df.shape[0]):  # range baseado no número de linhas\n",
    "        if registration_fields_line_index: \n",
    "            break\n",
    "        line = df[i].to_dict(as_series=False)  # Obtemos os dados da linha como dicionário\n",
    "        for value in line.values():  # Itera sobre os valores da linha\n",
    "            if str_value in str(value):  # Verifica se o valor procurado está presente\n",
    "                registration_fields_line_index = i  # Se encontrado, armazena o índice da linha\n",
    "                break  # Paramos a busca na linha atual após encontrar o valor\n",
    "\n",
    "    return registration_fields_line_index"
   ]
  },
  {
   "cell_type": "code",
   "execution_count": 7,
   "metadata": {},
   "outputs": [],
   "source": [
    "df = pl.read_parquet('../files/dataframe_parquet/Adequação da Formação Docente/2014.parquet')"
   ]
  },
  {
   "cell_type": "markdown",
   "metadata": {},
   "source": [
    "Create a mini df with the first 10:10 registers, se we can easily look for a specific value that should be in the header. "
   ]
  },
  {
   "cell_type": "code",
   "execution_count": 8,
   "metadata": {},
   "outputs": [],
   "source": [
    "header_df = df.head(10).select(df.columns[:10])"
   ]
  },
  {
   "cell_type": "markdown",
   "metadata": {},
   "source": [
    "Import a list with registration data fields and universal pk (school code)"
   ]
  },
  {
   "cell_type": "code",
   "execution_count": 9,
   "metadata": {},
   "outputs": [],
   "source": [
    "registration_fields = mappers.registration_fields\n",
    "universal_pk = mappers.universal_pk "
   ]
  },
  {
   "cell_type": "code",
   "execution_count": 10,
   "metadata": {},
   "outputs": [],
   "source": [
    "registration_fields_line_index = find_new_header_index_by_value(header_df, universal_pk)"
   ]
  },
  {
   "cell_type": "code",
   "execution_count": 11,
   "metadata": {},
   "outputs": [],
   "source": [
    "# Usar a linha como novo cabeçalho\n",
    "new_header = df.row(registration_fields_line_index)"
   ]
  },
  {
   "cell_type": "code",
   "execution_count": 12,
   "metadata": {},
   "outputs": [],
   "source": [
    "# Redefinir os nomes das colunas e remover a linha usada como cabeçalho\n",
    "df = df.rename({old: new for old, new in zip(df.columns, new_header) if new})"
   ]
  },
  {
   "cell_type": "code",
   "execution_count": 13,
   "metadata": {},
   "outputs": [],
   "source": [
    "df = df.with_row_index().filter(~pl.col(\"index\").is_in(registration_fields_line_index))"
   ]
  },
  {
   "cell_type": "code",
   "execution_count": 14,
   "metadata": {},
   "outputs": [],
   "source": [
    "registration_dataframe = df.select([universal_pk] + registration_fields)"
   ]
  },
  {
   "cell_type": "code",
   "execution_count": 15,
   "metadata": {},
   "outputs": [
    {
     "data": {
      "text/html": [
       "<div><style>\n",
       ".dataframe > thead > tr,\n",
       ".dataframe > tbody > tr {\n",
       "  text-align: right;\n",
       "  white-space: pre-wrap;\n",
       "}\n",
       "</style>\n",
       "<small>shape: (184_912, 8)</small><table border=\"1\" class=\"dataframe\"><thead><tr><th>Código da Escola</th><th>Região</th><th>UF</th><th>Código do Município</th><th>Nome do Município</th><th>Nome da Escola</th><th>Localização</th><th>Dependência Administrativa</th></tr><tr><td>str</td><td>str</td><td>str</td><td>str</td><td>str</td><td>str</td><td>str</td><td>str</td></tr></thead><tbody><tr><td>null</td><td>&quot;                     Instituto…</td><td>null</td><td>null</td><td>null</td><td>null</td><td>null</td><td>null</td></tr><tr><td>null</td><td>null</td><td>null</td><td>null</td><td>null</td><td>null</td><td>null</td><td>null</td></tr><tr><td>null</td><td>null</td><td>null</td><td>null</td><td>null</td><td>null</td><td>null</td><td>null</td></tr><tr><td>null</td><td>null</td><td>null</td><td>null</td><td>null</td><td>null</td><td>null</td><td>null</td></tr><tr><td>null</td><td>null</td><td>null</td><td>null</td><td>null</td><td>null</td><td>null</td><td>null</td></tr><tr><td>&hellip;</td><td>&hellip;</td><td>&hellip;</td><td>&hellip;</td><td>&hellip;</td><td>&hellip;</td><td>&hellip;</td><td>&hellip;</td></tr><tr><td>&quot;53088034&quot;</td><td>&quot;Centro_Oeste&quot;</td><td>&quot;DF&quot;</td><td>&quot;5300108&quot;</td><td>&quot;BRASILIA&quot;</td><td>&quot;OBRA SOCIAL NOSSA SENHORA DE F…</td><td>&quot;Urbana&quot;</td><td>&quot;Privada&quot;</td></tr><tr><td>null</td><td>null</td><td>null</td><td>null</td><td>null</td><td>null</td><td>null</td><td>null</td></tr><tr><td>null</td><td>null</td><td>null</td><td>null</td><td>null</td><td>null</td><td>null</td><td>null</td></tr><tr><td>null</td><td>null</td><td>null</td><td>null</td><td>null</td><td>null</td><td>null</td><td>null</td></tr><tr><td>null</td><td>null</td><td>null</td><td>null</td><td>null</td><td>null</td><td>null</td><td>null</td></tr></tbody></table></div>"
      ],
      "text/plain": [
       "shape: (184_912, 8)\n",
       "┌─────────────┬────────────┬──────┬────────────┬────────────┬────────────┬────────────┬────────────┐\n",
       "│ Código da   ┆ Região     ┆ UF   ┆ Código do  ┆ Nome do    ┆ Nome da    ┆ Localizaçã ┆ Dependênci │\n",
       "│ Escola      ┆ ---        ┆ ---  ┆ Município  ┆ Município  ┆ Escola     ┆ o          ┆ a Administ │\n",
       "│ ---         ┆ str        ┆ str  ┆ ---        ┆ ---        ┆ ---        ┆ ---        ┆ rativa     │\n",
       "│ str         ┆            ┆      ┆ str        ┆ str        ┆ str        ┆ str        ┆ ---        │\n",
       "│             ┆            ┆      ┆            ┆            ┆            ┆            ┆ str        │\n",
       "╞═════════════╪════════════╪══════╪════════════╪════════════╪════════════╪════════════╪════════════╡\n",
       "│ null        ┆ Instituto… ┆ null ┆ null       ┆ null       ┆ null       ┆ null       ┆ null       │\n",
       "│ null        ┆ null       ┆ null ┆ null       ┆ null       ┆ null       ┆ null       ┆ null       │\n",
       "│ null        ┆ null       ┆ null ┆ null       ┆ null       ┆ null       ┆ null       ┆ null       │\n",
       "│ null        ┆ null       ┆ null ┆ null       ┆ null       ┆ null       ┆ null       ┆ null       │\n",
       "│ null        ┆ null       ┆ null ┆ null       ┆ null       ┆ null       ┆ null       ┆ null       │\n",
       "│ …           ┆ …          ┆ …    ┆ …          ┆ …          ┆ …          ┆ …          ┆ …          │\n",
       "│ 53088034    ┆ Centro_Oes ┆ DF   ┆ 5300108    ┆ BRASILIA   ┆ OBRA       ┆ Urbana     ┆ Privada    │\n",
       "│             ┆ te         ┆      ┆            ┆            ┆ SOCIAL     ┆            ┆            │\n",
       "│             ┆            ┆      ┆            ┆            ┆ NOSSA      ┆            ┆            │\n",
       "│             ┆            ┆      ┆            ┆            ┆ SENHORA DE ┆            ┆            │\n",
       "│             ┆            ┆      ┆            ┆            ┆ F…         ┆            ┆            │\n",
       "│ null        ┆ null       ┆ null ┆ null       ┆ null       ┆ null       ┆ null       ┆ null       │\n",
       "│ null        ┆ null       ┆ null ┆ null       ┆ null       ┆ null       ┆ null       ┆ null       │\n",
       "│ null        ┆ null       ┆ null ┆ null       ┆ null       ┆ null       ┆ null       ┆ null       │\n",
       "│ null        ┆ null       ┆ null ┆ null       ┆ null       ┆ null       ┆ null       ┆ null       │\n",
       "└─────────────┴────────────┴──────┴────────────┴────────────┴────────────┴────────────┴────────────┘"
      ]
     },
     "execution_count": 15,
     "metadata": {},
     "output_type": "execute_result"
    }
   ],
   "source": [
    "registration_dataframe"
   ]
  },
  {
   "cell_type": "code",
   "execution_count": 16,
   "metadata": {},
   "outputs": [],
   "source": [
    "registration_dataframe = registration_dataframe.drop_nulls()"
   ]
  },
  {
   "cell_type": "code",
   "execution_count": 17,
   "metadata": {},
   "outputs": [
    {
     "data": {
      "text/html": [
       "<div><style>\n",
       ".dataframe > thead > tr,\n",
       ".dataframe > tbody > tr {\n",
       "  text-align: right;\n",
       "  white-space: pre-wrap;\n",
       "}\n",
       "</style>\n",
       "<small>shape: (184_902, 8)</small><table border=\"1\" class=\"dataframe\"><thead><tr><th>Código da Escola</th><th>Região</th><th>UF</th><th>Código do Município</th><th>Nome do Município</th><th>Nome da Escola</th><th>Localização</th><th>Dependência Administrativa</th></tr><tr><td>str</td><td>str</td><td>str</td><td>str</td><td>str</td><td>str</td><td>str</td><td>str</td></tr></thead><tbody><tr><td>&quot;PK_COD_ENTIDADE&quot;</td><td>&quot;NO_REGIAO&quot;</td><td>&quot;SIGLA&quot;</td><td>&quot;PK_COD_MUNICIPIO&quot;</td><td>&quot;NO_MUNICIPIO&quot;</td><td>&quot;NO_ENTIDADE&quot;</td><td>&quot;TIPOLOCA&quot;</td><td>&quot;Dependad&quot;</td></tr><tr><td>&quot;11022558&quot;</td><td>&quot;Norte&quot;</td><td>&quot;RO&quot;</td><td>&quot;1100015&quot;</td><td>&quot;ALTA FLORESTA D OESTE&quot;</td><td>&quot;EIEEF HAP BITT TUPARI&quot;</td><td>&quot;Rural&quot;</td><td>&quot;Estadual&quot;</td></tr><tr><td>&quot;11024275&quot;</td><td>&quot;Norte&quot;</td><td>&quot;RO&quot;</td><td>&quot;1100015&quot;</td><td>&quot;ALTA FLORESTA D OESTE&quot;</td><td>&quot;CEEJA LUIZ VAZ DE CAMOES&quot;</td><td>&quot;Urbana&quot;</td><td>&quot;Estadual&quot;</td></tr><tr><td>&quot;11024291&quot;</td><td>&quot;Norte&quot;</td><td>&quot;RO&quot;</td><td>&quot;1100015&quot;</td><td>&quot;ALTA FLORESTA D OESTE&quot;</td><td>&quot;EMMEF 07 DE SETEMBRO&quot;</td><td>&quot;Rural&quot;</td><td>&quot;Municipal&quot;</td></tr><tr><td>&quot;11024372&quot;</td><td>&quot;Norte&quot;</td><td>&quot;RO&quot;</td><td>&quot;1100015&quot;</td><td>&quot;ALTA FLORESTA D OESTE&quot;</td><td>&quot;EMEIEF ANA NERY&quot;</td><td>&quot;Rural&quot;</td><td>&quot;Municipal&quot;</td></tr><tr><td>&hellip;</td><td>&hellip;</td><td>&hellip;</td><td>&hellip;</td><td>&hellip;</td><td>&hellip;</td><td>&hellip;</td><td>&hellip;</td></tr><tr><td>&quot;53085000&quot;</td><td>&quot;Centro_Oeste&quot;</td><td>&quot;DF&quot;</td><td>&quot;5300108&quot;</td><td>&quot;BRASILIA&quot;</td><td>&quot;COBIAN - COL BIANGULO&quot;</td><td>&quot;Urbana&quot;</td><td>&quot;Privada&quot;</td></tr><tr><td>&quot;53086007&quot;</td><td>&quot;Centro_Oeste&quot;</td><td>&quot;DF&quot;</td><td>&quot;5300108&quot;</td><td>&quot;BRASILIA&quot;</td><td>&quot;INSTEI - CE VICENTE PIRES&quot;</td><td>&quot;Urbana&quot;</td><td>&quot;Privada&quot;</td></tr><tr><td>&quot;53087003&quot;</td><td>&quot;Centro_Oeste&quot;</td><td>&quot;DF&quot;</td><td>&quot;5300108&quot;</td><td>&quot;BRASILIA&quot;</td><td>&quot;CED SANTOS DUMONT - CESAN&quot;</td><td>&quot;Urbana&quot;</td><td>&quot;Privada&quot;</td></tr><tr><td>&quot;53088000&quot;</td><td>&quot;Centro_Oeste&quot;</td><td>&quot;DF&quot;</td><td>&quot;5300108&quot;</td><td>&quot;BRASILIA&quot;</td><td>&quot;CEUBRAS - CE UNIVERSALIZANTE B…</td><td>&quot;Urbana&quot;</td><td>&quot;Privada&quot;</td></tr><tr><td>&quot;53088034&quot;</td><td>&quot;Centro_Oeste&quot;</td><td>&quot;DF&quot;</td><td>&quot;5300108&quot;</td><td>&quot;BRASILIA&quot;</td><td>&quot;OBRA SOCIAL NOSSA SENHORA DE F…</td><td>&quot;Urbana&quot;</td><td>&quot;Privada&quot;</td></tr></tbody></table></div>"
      ],
      "text/plain": [
       "shape: (184_902, 8)\n",
       "┌────────────┬────────────┬───────┬────────────┬────────────┬────────────┬────────────┬────────────┐\n",
       "│ Código da  ┆ Região     ┆ UF    ┆ Código do  ┆ Nome do    ┆ Nome da    ┆ Localizaçã ┆ Dependênci │\n",
       "│ Escola     ┆ ---        ┆ ---   ┆ Município  ┆ Município  ┆ Escola     ┆ o          ┆ a Administ │\n",
       "│ ---        ┆ str        ┆ str   ┆ ---        ┆ ---        ┆ ---        ┆ ---        ┆ rativa     │\n",
       "│ str        ┆            ┆       ┆ str        ┆ str        ┆ str        ┆ str        ┆ ---        │\n",
       "│            ┆            ┆       ┆            ┆            ┆            ┆            ┆ str        │\n",
       "╞════════════╪════════════╪═══════╪════════════╪════════════╪════════════╪════════════╪════════════╡\n",
       "│ PK_COD_ENT ┆ NO_REGIAO  ┆ SIGLA ┆ PK_COD_MUN ┆ NO_MUNICIP ┆ NO_ENTIDAD ┆ TIPOLOCA   ┆ Dependad   │\n",
       "│ IDADE      ┆            ┆       ┆ ICIPIO     ┆ IO         ┆ E          ┆            ┆            │\n",
       "│ 11022558   ┆ Norte      ┆ RO    ┆ 1100015    ┆ ALTA       ┆ EIEEF HAP  ┆ Rural      ┆ Estadual   │\n",
       "│            ┆            ┆       ┆            ┆ FLORESTA D ┆ BITT       ┆            ┆            │\n",
       "│            ┆            ┆       ┆            ┆ OESTE      ┆ TUPARI     ┆            ┆            │\n",
       "│ 11024275   ┆ Norte      ┆ RO    ┆ 1100015    ┆ ALTA       ┆ CEEJA LUIZ ┆ Urbana     ┆ Estadual   │\n",
       "│            ┆            ┆       ┆            ┆ FLORESTA D ┆ VAZ DE     ┆            ┆            │\n",
       "│            ┆            ┆       ┆            ┆ OESTE      ┆ CAMOES     ┆            ┆            │\n",
       "│ 11024291   ┆ Norte      ┆ RO    ┆ 1100015    ┆ ALTA       ┆ EMMEF 07   ┆ Rural      ┆ Municipal  │\n",
       "│            ┆            ┆       ┆            ┆ FLORESTA D ┆ DE         ┆            ┆            │\n",
       "│            ┆            ┆       ┆            ┆ OESTE      ┆ SETEMBRO   ┆            ┆            │\n",
       "│ 11024372   ┆ Norte      ┆ RO    ┆ 1100015    ┆ ALTA       ┆ EMEIEF ANA ┆ Rural      ┆ Municipal  │\n",
       "│            ┆            ┆       ┆            ┆ FLORESTA D ┆ NERY       ┆            ┆            │\n",
       "│            ┆            ┆       ┆            ┆ OESTE      ┆            ┆            ┆            │\n",
       "│ …          ┆ …          ┆ …     ┆ …          ┆ …          ┆ …          ┆ …          ┆ …          │\n",
       "│ 53085000   ┆ Centro_Oes ┆ DF    ┆ 5300108    ┆ BRASILIA   ┆ COBIAN -   ┆ Urbana     ┆ Privada    │\n",
       "│            ┆ te         ┆       ┆            ┆            ┆ COL        ┆            ┆            │\n",
       "│            ┆            ┆       ┆            ┆            ┆ BIANGULO   ┆            ┆            │\n",
       "│ 53086007   ┆ Centro_Oes ┆ DF    ┆ 5300108    ┆ BRASILIA   ┆ INSTEI -   ┆ Urbana     ┆ Privada    │\n",
       "│            ┆ te         ┆       ┆            ┆            ┆ CE VICENTE ┆            ┆            │\n",
       "│            ┆            ┆       ┆            ┆            ┆ PIRES      ┆            ┆            │\n",
       "│ 53087003   ┆ Centro_Oes ┆ DF    ┆ 5300108    ┆ BRASILIA   ┆ CED SANTOS ┆ Urbana     ┆ Privada    │\n",
       "│            ┆ te         ┆       ┆            ┆            ┆ DUMONT -   ┆            ┆            │\n",
       "│            ┆            ┆       ┆            ┆            ┆ CESAN      ┆            ┆            │\n",
       "│ 53088000   ┆ Centro_Oes ┆ DF    ┆ 5300108    ┆ BRASILIA   ┆ CEUBRAS -  ┆ Urbana     ┆ Privada    │\n",
       "│            ┆ te         ┆       ┆            ┆            ┆ CE UNIVERS ┆            ┆            │\n",
       "│            ┆            ┆       ┆            ┆            ┆ ALIZANTE   ┆            ┆            │\n",
       "│            ┆            ┆       ┆            ┆            ┆ B…         ┆            ┆            │\n",
       "│ 53088034   ┆ Centro_Oes ┆ DF    ┆ 5300108    ┆ BRASILIA   ┆ OBRA       ┆ Urbana     ┆ Privada    │\n",
       "│            ┆ te         ┆       ┆            ┆            ┆ SOCIAL     ┆            ┆            │\n",
       "│            ┆            ┆       ┆            ┆            ┆ NOSSA      ┆            ┆            │\n",
       "│            ┆            ┆       ┆            ┆            ┆ SENHORA DE ┆            ┆            │\n",
       "│            ┆            ┆       ┆            ┆            ┆ F…         ┆            ┆            │\n",
       "└────────────┴────────────┴───────┴────────────┴────────────┴────────────┴────────────┴────────────┘"
      ]
     },
     "execution_count": 17,
     "metadata": {},
     "output_type": "execute_result"
    }
   ],
   "source": [
    "registration_dataframe"
   ]
  },
  {
   "cell_type": "code",
   "execution_count": 18,
   "metadata": {},
   "outputs": [],
   "source": [
    "registration_dataframe = registration_dataframe.filter(pl.col(universal_pk).cast(pl.Int32, strict=False).is_not_null())"
   ]
  },
  {
   "cell_type": "code",
   "execution_count": 19,
   "metadata": {},
   "outputs": [
    {
     "data": {
      "text/html": [
       "<div><style>\n",
       ".dataframe > thead > tr,\n",
       ".dataframe > tbody > tr {\n",
       "  text-align: right;\n",
       "  white-space: pre-wrap;\n",
       "}\n",
       "</style>\n",
       "<small>shape: (184_901, 8)</small><table border=\"1\" class=\"dataframe\"><thead><tr><th>Código da Escola</th><th>Região</th><th>UF</th><th>Código do Município</th><th>Nome do Município</th><th>Nome da Escola</th><th>Localização</th><th>Dependência Administrativa</th></tr><tr><td>str</td><td>str</td><td>str</td><td>str</td><td>str</td><td>str</td><td>str</td><td>str</td></tr></thead><tbody><tr><td>&quot;11022558&quot;</td><td>&quot;Norte&quot;</td><td>&quot;RO&quot;</td><td>&quot;1100015&quot;</td><td>&quot;ALTA FLORESTA D OESTE&quot;</td><td>&quot;EIEEF HAP BITT TUPARI&quot;</td><td>&quot;Rural&quot;</td><td>&quot;Estadual&quot;</td></tr><tr><td>&quot;11024275&quot;</td><td>&quot;Norte&quot;</td><td>&quot;RO&quot;</td><td>&quot;1100015&quot;</td><td>&quot;ALTA FLORESTA D OESTE&quot;</td><td>&quot;CEEJA LUIZ VAZ DE CAMOES&quot;</td><td>&quot;Urbana&quot;</td><td>&quot;Estadual&quot;</td></tr><tr><td>&quot;11024291&quot;</td><td>&quot;Norte&quot;</td><td>&quot;RO&quot;</td><td>&quot;1100015&quot;</td><td>&quot;ALTA FLORESTA D OESTE&quot;</td><td>&quot;EMMEF 07 DE SETEMBRO&quot;</td><td>&quot;Rural&quot;</td><td>&quot;Municipal&quot;</td></tr><tr><td>&quot;11024372&quot;</td><td>&quot;Norte&quot;</td><td>&quot;RO&quot;</td><td>&quot;1100015&quot;</td><td>&quot;ALTA FLORESTA D OESTE&quot;</td><td>&quot;EMEIEF ANA NERY&quot;</td><td>&quot;Rural&quot;</td><td>&quot;Municipal&quot;</td></tr><tr><td>&quot;11024593&quot;</td><td>&quot;Norte&quot;</td><td>&quot;RO&quot;</td><td>&quot;1100015&quot;</td><td>&quot;ALTA FLORESTA D OESTE&quot;</td><td>&quot;EMEIEF DARCY PENTEADO&quot;</td><td>&quot;Rural&quot;</td><td>&quot;Municipal&quot;</td></tr><tr><td>&hellip;</td><td>&hellip;</td><td>&hellip;</td><td>&hellip;</td><td>&hellip;</td><td>&hellip;</td><td>&hellip;</td><td>&hellip;</td></tr><tr><td>&quot;53085000&quot;</td><td>&quot;Centro_Oeste&quot;</td><td>&quot;DF&quot;</td><td>&quot;5300108&quot;</td><td>&quot;BRASILIA&quot;</td><td>&quot;COBIAN - COL BIANGULO&quot;</td><td>&quot;Urbana&quot;</td><td>&quot;Privada&quot;</td></tr><tr><td>&quot;53086007&quot;</td><td>&quot;Centro_Oeste&quot;</td><td>&quot;DF&quot;</td><td>&quot;5300108&quot;</td><td>&quot;BRASILIA&quot;</td><td>&quot;INSTEI - CE VICENTE PIRES&quot;</td><td>&quot;Urbana&quot;</td><td>&quot;Privada&quot;</td></tr><tr><td>&quot;53087003&quot;</td><td>&quot;Centro_Oeste&quot;</td><td>&quot;DF&quot;</td><td>&quot;5300108&quot;</td><td>&quot;BRASILIA&quot;</td><td>&quot;CED SANTOS DUMONT - CESAN&quot;</td><td>&quot;Urbana&quot;</td><td>&quot;Privada&quot;</td></tr><tr><td>&quot;53088000&quot;</td><td>&quot;Centro_Oeste&quot;</td><td>&quot;DF&quot;</td><td>&quot;5300108&quot;</td><td>&quot;BRASILIA&quot;</td><td>&quot;CEUBRAS - CE UNIVERSALIZANTE B…</td><td>&quot;Urbana&quot;</td><td>&quot;Privada&quot;</td></tr><tr><td>&quot;53088034&quot;</td><td>&quot;Centro_Oeste&quot;</td><td>&quot;DF&quot;</td><td>&quot;5300108&quot;</td><td>&quot;BRASILIA&quot;</td><td>&quot;OBRA SOCIAL NOSSA SENHORA DE F…</td><td>&quot;Urbana&quot;</td><td>&quot;Privada&quot;</td></tr></tbody></table></div>"
      ],
      "text/plain": [
       "shape: (184_901, 8)\n",
       "┌─────────────┬─────────────┬─────┬────────────┬────────────┬────────────┬────────────┬────────────┐\n",
       "│ Código da   ┆ Região      ┆ UF  ┆ Código do  ┆ Nome do    ┆ Nome da    ┆ Localizaçã ┆ Dependênci │\n",
       "│ Escola      ┆ ---         ┆ --- ┆ Município  ┆ Município  ┆ Escola     ┆ o          ┆ a Administ │\n",
       "│ ---         ┆ str         ┆ str ┆ ---        ┆ ---        ┆ ---        ┆ ---        ┆ rativa     │\n",
       "│ str         ┆             ┆     ┆ str        ┆ str        ┆ str        ┆ str        ┆ ---        │\n",
       "│             ┆             ┆     ┆            ┆            ┆            ┆            ┆ str        │\n",
       "╞═════════════╪═════════════╪═════╪════════════╪════════════╪════════════╪════════════╪════════════╡\n",
       "│ 11022558    ┆ Norte       ┆ RO  ┆ 1100015    ┆ ALTA       ┆ EIEEF HAP  ┆ Rural      ┆ Estadual   │\n",
       "│             ┆             ┆     ┆            ┆ FLORESTA D ┆ BITT       ┆            ┆            │\n",
       "│             ┆             ┆     ┆            ┆ OESTE      ┆ TUPARI     ┆            ┆            │\n",
       "│ 11024275    ┆ Norte       ┆ RO  ┆ 1100015    ┆ ALTA       ┆ CEEJA LUIZ ┆ Urbana     ┆ Estadual   │\n",
       "│             ┆             ┆     ┆            ┆ FLORESTA D ┆ VAZ DE     ┆            ┆            │\n",
       "│             ┆             ┆     ┆            ┆ OESTE      ┆ CAMOES     ┆            ┆            │\n",
       "│ 11024291    ┆ Norte       ┆ RO  ┆ 1100015    ┆ ALTA       ┆ EMMEF 07   ┆ Rural      ┆ Municipal  │\n",
       "│             ┆             ┆     ┆            ┆ FLORESTA D ┆ DE         ┆            ┆            │\n",
       "│             ┆             ┆     ┆            ┆ OESTE      ┆ SETEMBRO   ┆            ┆            │\n",
       "│ 11024372    ┆ Norte       ┆ RO  ┆ 1100015    ┆ ALTA       ┆ EMEIEF ANA ┆ Rural      ┆ Municipal  │\n",
       "│             ┆             ┆     ┆            ┆ FLORESTA D ┆ NERY       ┆            ┆            │\n",
       "│             ┆             ┆     ┆            ┆ OESTE      ┆            ┆            ┆            │\n",
       "│ 11024593    ┆ Norte       ┆ RO  ┆ 1100015    ┆ ALTA       ┆ EMEIEF     ┆ Rural      ┆ Municipal  │\n",
       "│             ┆             ┆     ┆            ┆ FLORESTA D ┆ DARCY      ┆            ┆            │\n",
       "│             ┆             ┆     ┆            ┆ OESTE      ┆ PENTEADO   ┆            ┆            │\n",
       "│ …           ┆ …           ┆ …   ┆ …          ┆ …          ┆ …          ┆ …          ┆ …          │\n",
       "│ 53085000    ┆ Centro_Oest ┆ DF  ┆ 5300108    ┆ BRASILIA   ┆ COBIAN -   ┆ Urbana     ┆ Privada    │\n",
       "│             ┆ e           ┆     ┆            ┆            ┆ COL        ┆            ┆            │\n",
       "│             ┆             ┆     ┆            ┆            ┆ BIANGULO   ┆            ┆            │\n",
       "│ 53086007    ┆ Centro_Oest ┆ DF  ┆ 5300108    ┆ BRASILIA   ┆ INSTEI -   ┆ Urbana     ┆ Privada    │\n",
       "│             ┆ e           ┆     ┆            ┆            ┆ CE VICENTE ┆            ┆            │\n",
       "│             ┆             ┆     ┆            ┆            ┆ PIRES      ┆            ┆            │\n",
       "│ 53087003    ┆ Centro_Oest ┆ DF  ┆ 5300108    ┆ BRASILIA   ┆ CED SANTOS ┆ Urbana     ┆ Privada    │\n",
       "│             ┆ e           ┆     ┆            ┆            ┆ DUMONT -   ┆            ┆            │\n",
       "│             ┆             ┆     ┆            ┆            ┆ CESAN      ┆            ┆            │\n",
       "│ 53088000    ┆ Centro_Oest ┆ DF  ┆ 5300108    ┆ BRASILIA   ┆ CEUBRAS -  ┆ Urbana     ┆ Privada    │\n",
       "│             ┆ e           ┆     ┆            ┆            ┆ CE UNIVERS ┆            ┆            │\n",
       "│             ┆             ┆     ┆            ┆            ┆ ALIZANTE   ┆            ┆            │\n",
       "│             ┆             ┆     ┆            ┆            ┆ B…         ┆            ┆            │\n",
       "│ 53088034    ┆ Centro_Oest ┆ DF  ┆ 5300108    ┆ BRASILIA   ┆ OBRA       ┆ Urbana     ┆ Privada    │\n",
       "│             ┆ e           ┆     ┆            ┆            ┆ SOCIAL     ┆            ┆            │\n",
       "│             ┆             ┆     ┆            ┆            ┆ NOSSA      ┆            ┆            │\n",
       "│             ┆             ┆     ┆            ┆            ┆ SENHORA DE ┆            ┆            │\n",
       "│             ┆             ┆     ┆            ┆            ┆ F…         ┆            ┆            │\n",
       "└─────────────┴─────────────┴─────┴────────────┴────────────┴────────────┴────────────┴────────────┘"
      ]
     },
     "execution_count": 19,
     "metadata": {},
     "output_type": "execute_result"
    }
   ],
   "source": [
    "registration_dataframe"
   ]
  }
 ],
 "metadata": {
  "kernelspec": {
   "display_name": ".venv",
   "language": "python",
   "name": "python3"
  },
  "language_info": {
   "codemirror_mode": {
    "name": "ipython",
    "version": 3
   },
   "file_extension": ".py",
   "mimetype": "text/x-python",
   "name": "python",
   "nbconvert_exporter": "python",
   "pygments_lexer": "ipython3",
   "version": "3.10.12"
  }
 },
 "nbformat": 4,
 "nbformat_minor": 2
}
